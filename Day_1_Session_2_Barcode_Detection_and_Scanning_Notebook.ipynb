{
  "nbformat": 4,
  "nbformat_minor": 0,
  "metadata": {
    "colab": {
      "provenance": [],
      "include_colab_link": true
    },
    "kernelspec": {
      "name": "python3",
      "display_name": "Python 3"
    },
    "language_info": {
      "name": "python"
    }
  },
  "cells": [
    {
      "cell_type": "markdown",
      "metadata": {
        "id": "view-in-github",
        "colab_type": "text"
      },
      "source": [
        "<a href=\"https://colab.research.google.com/github/akshatsanghvi211103/CVIT_WORKSHOP/blob/main/Day_1_Session_2_Barcode_Detection_and_Scanning_Notebook.ipynb\" target=\"_parent\"><img src=\"https://colab.research.google.com/assets/colab-badge.svg\" alt=\"Open In Colab\"/></a>"
      ]
    },
    {
      "cell_type": "markdown",
      "source": [
        "# Barcode Detection and Scanning\n",
        "\n",
        "In this session, you are required to implement a basic barcode scanner using image various image processing methods. \n",
        "\n",
        "We will be using python's OpenCV library (cv2) for the purpose of preforming image processing tasks."
      ],
      "metadata": {
        "id": "hTchjSi7BGtZ"
      }
    },
    {
      "cell_type": "code",
      "source": [
        "import numpy as np\n",
        "import cv2\n",
        "from google.colab.patches import cv2_imshow\n",
        "import math\n",
        "from collections import defaultdict\n",
        "from matplotlib import pyplot as plt\n",
        "from google.colab.patches import cv2_imshow"
      ],
      "metadata": {
        "id": "7GU9nrR6Wt3J"
      },
      "execution_count": 70,
      "outputs": []
    },
    {
      "cell_type": "markdown",
      "source": [
        "Please download the image 'input.png' from the given link (https://drive.google.com/file/d/1oQSxTCFiJ2yI7LsmQE3grrYKAdKWPj6Q/view?usp=share_link) and upload it to the current directory of this colab session."
      ],
      "metadata": {
        "id": "YczSmKfm-4gK"
      }
    },
    {
      "cell_type": "markdown",
      "source": [
        "# Barcode Detection"
      ],
      "metadata": {
        "id": "Wpzb__8GRdvz"
      }
    },
    {
      "cell_type": "code",
      "source": [
        "original = cv2.imread('./input.png')\n",
        "image = original.copy() # so that we dont get refernece problems\n",
        "image = cv2.cvtColor(image, cv2.COLOR_BGR2GRAY)"
      ],
      "metadata": {
        "id": "-ueSBzdgd-zP"
      },
      "execution_count": 71,
      "outputs": []
    },
    {
      "cell_type": "markdown",
      "source": [
        "Resize the input.png image using cv2.resize() and the show the resized image using cv2_imshow() (which is the colab compatible equivalent for the command cv2.imshow() of OpenCV).\n",
        "\n",
        "Feel free to look up for the syntaxes on google. :)"
      ],
      "metadata": {
        "id": "iygWOvONCfV9"
      }
    },
    {
      "cell_type": "code",
      "source": [
        "# resized_image = # Resize the input image"
      ],
      "metadata": {
        "id": "NVTWz0BhePki"
      },
      "execution_count": 72,
      "outputs": []
    },
    {
      "cell_type": "code",
      "source": [
        "# Display the resized_image using cv2_imshow()"
      ],
      "metadata": {
        "id": "l1fT0PcHKw1F"
      },
      "execution_count": 73,
      "outputs": []
    },
    {
      "cell_type": "code",
      "source": [
        "image = cv2.resize(image,None,fx=0.7, fy=0.7, interpolation = cv2.INTER_CUBIC)\n",
        "original = cv2.resize(original,None,fx=0.7, fy=0.7, interpolation = cv2.INTER_CUBIC)"
      ],
      "metadata": {
        "id": "nUdu4pvYeJgx"
      },
      "execution_count": 74,
      "outputs": []
    },
    {
      "cell_type": "markdown",
      "source": [
        "Calculate the gradients in x and y directions using cv2.Sobel(). \n",
        "\n",
        "Set ksize = -1 to use the **Scharr Operator**: It is the standard ig"
      ],
      "metadata": {
        "id": "3pIRmh2rGwGg"
      }
    },
    {
      "cell_type": "code",
      "source": [
        "gradX = cv2.Sobel(image, ddepth = cv2.CV_32F, dx = 1, dy = 0, ksize = -1) # ddepth could be 8, 16, 32, floating-bit depth...CV_32F is for floating point precision, the very high precision for intensity values\n",
        "gradY = cv2.Sobel(image, ddepth = cv2.CV_32F, dx = 0, dy = 1, ksize = -1)"
      ],
      "metadata": {
        "id": "zQLmXseEeZOk"
      },
      "execution_count": 75,
      "outputs": []
    },
    {
      "cell_type": "markdown",
      "source": [
        "Show gradX and gradY using cv2_imshow()."
      ],
      "metadata": {
        "id": "H6tLKhcsHjmZ"
      }
    },
    {
      "cell_type": "code",
      "source": [
        "#Display gradX using cv2_imshow()\n",
        "cv2_imshow(image) # this has also changed the inverted the image colours\n",
        "cv2_imshow(gradX) # horizontal lines removed\n",
        "cv2_imshow(gradY)"
      ],
      "metadata": {
        "id": "d5R4foXjkxUf",
        "colab": {
          "base_uri": "https://localhost:8080/",
          "height": 338
        },
        "outputId": "620a1361-bc40-4630-cf00-4643eb065cfb"
      },
      "execution_count": 76,
      "outputs": [
        {
          "output_type": "display_data",
          "data": {
            "text/plain": [
              "<PIL.Image.Image image mode=L size=396x107 at 0x7F78A45AC400>"
            ],
            "image/png": "[encoded data removed]"
          },
          "metadata": {}
        },
        {
          "output_type": "display_data",
          "data": {
            "text/plain": [
              "<PIL.Image.Image image mode=L size=396x107 at 0x7F78A45AD870>"
            ],
            "image/png": "[encoded data removed]"
          },
          "metadata": {}
        },
        {
          "output_type": "display_data",
          "data": {
            "text/plain": [
              "<PIL.Image.Image image mode=L size=396x107 at 0x7F78A45AC400>"
            ],
            "image/png": "[encoded data removed]"
          },
          "metadata": {}
        }
      ]
    },
    {
      "cell_type": "code",
      "source": [
        "#Display gradY using cv2_imshow()"
      ],
      "metadata": {
        "id": "3FlfxEJ1kxfm"
      },
      "execution_count": 77,
      "outputs": []
    },
    {
      "cell_type": "markdown",
      "source": [
        "Calculate the magnitude of gradients as below.\n",
        "\n",
        "*   $gradient = \\sqrt{(gradX)^2 + (gradY)^2}$.\n",
        "\n",
        "use cv2.sqrt() and cv2.add() for this purpose."
      ],
      "metadata": {
        "id": "RcxwFr-LLkk5"
      }
    },
    {
      "cell_type": "code",
      "source": [
        "print(gradX[gradX!=0])\n",
        "print(gradY[gradY!=0])\n",
        "gradient = cv2.sqrt(cv2.add(np.square(gradX), np.square(gradY))) # Compute the magnitue of gradients\n",
        "print(gradient[gradient!=0])"
      ],
      "metadata": {
        "id": "DqEcEGGBhL5x",
        "colab": {
          "base_uri": "https://localhost:8080/"
        },
        "outputId": "96ccdb4f-a88b-40a3-b69f-e942e7ca0d31"
      },
      "execution_count": 78,
      "outputs": [
        {
          "output_type": "stream",
          "name": "stdout",
          "text": [
            "[-9.  9. -9. ...  9. -6.  6.]\n",
            "[ -9. -30.  -9. ...   6.  20.   6.]\n",
            "[12.727922 30.       12.727922 ...  8.485281 20.        8.485281]\n"
          ]
        }
      ]
    },
    {
      "cell_type": "code",
      "source": [
        "gradient = cv2.convertScaleAbs(gradient) # Converts the output to an 8-bit representation, it transfroms each element x of the array to alpha * x + beta\n",
        "cv2_imshow(gradient)"
      ],
      "metadata": {
        "id": "1lapBcqOM5Q-",
        "colab": {
          "base_uri": "https://localhost:8080/",
          "height": 124
        },
        "outputId": "2a8e8114-fd07-46f4-e9c6-5f20884da1c0"
      },
      "execution_count": 79,
      "outputs": [
        {
          "output_type": "display_data",
          "data": {
            "text/plain": [
              "<PIL.Image.Image image mode=L size=396x107 at 0x7F78A45ACE80>"
            ],
            "image/png": "[encoded data removed]"
          },
          "metadata": {}
        }
      ]
    },
    {
      "cell_type": "code",
      "source": [
        "# Display the computed gradient image using cv2_imshow()"
      ],
      "metadata": {
        "id": "8z1QtJ3nMsB-"
      },
      "execution_count": 80,
      "outputs": []
    },
    {
      "cell_type": "markdown",
      "source": [
        "Blur the gradient image using cv2.blur(). Use a $3 \\times 3$ kernel for the the same.\n",
        "\n",
        "Further, perform binary thresholding on the blurred image using cv2.threshold(). Use the threshold value of 225, i.e. values below 225 should be mapped to 0, and the values greater than or equal to 225 should be mapped to 255."
      ],
      "metadata": {
        "id": "RQDzc-scNP_4"
      }
    },
    {
      "cell_type": "code",
      "source": [
        "# blurred = # Blur the gradient image using cv2.blur() with a 3*3 kernel\n",
        "blurred = cv2.blur(gradient, (3, 3))\n",
        "cv2_imshow(blurred)\n",
        "\n",
        "# (_, thresh) = # Perform binary thresholding on the blurred image with a threshold value of 225\n",
        "(_, thresh) = cv2.threshold(blurred, 225, 255, cv2.THRESH_BINARY)\n",
        "cv2_imshow(thresh)"
      ],
      "metadata": {
        "id": "AGBEiMZLfAPh",
        "colab": {
          "base_uri": "https://localhost:8080/",
          "height": 231
        },
        "outputId": "dfb4255a-d5fe-4be8-f6ed-97a37c71f190"
      },
      "execution_count": 81,
      "outputs": [
        {
          "output_type": "display_data",
          "data": {
            "text/plain": [
              "<PIL.Image.Image image mode=L size=396x107 at 0x7F78A45AE8F0>"
            ],
            "image/png": "[encoded data removed]"
          },
          "metadata": {}
        },
        {
          "output_type": "display_data",
          "data": {
            "text/plain": [
              "<PIL.Image.Image image mode=L size=396x107 at 0x7F78A45AE8F0>"
            ],
            "image/png": "[encoded data removed]"
          },
          "metadata": {}
        }
      ]
    },
    {
      "cell_type": "code",
      "source": [
        "# Display the thresholded image (thresh) of gradients using cv2_imshow()"
      ],
      "metadata": {
        "id": "_WggbNULNHuH"
      },
      "execution_count": 82,
      "outputs": []
    },
    {
      "cell_type": "markdown",
      "source": [
        "Create a rectangular kernel of Width = 21 and Height = 7 using cv2.getStructuringElement() along with cv2.MORPH_RECT.\n",
        "\n",
        "Make sure that the dimensions are written in (Width, Height) format.\n",
        "\n",
        "Further, using this kernel, perform the morphological closing operation on the image \"thresh\" using cv2.morphologyEx() along with cv2.MORPH_CLOSE."
      ],
      "metadata": {
        "id": "lUHLKSVVPMHn"
      }
    },
    {
      "cell_type": "code",
      "source": [
        "kernel = cv2.getStructuringElement(cv2.MORPH_RECT, (21, 7)) # Define a rectangular kernal with W = 21 and H = 7\n",
        "# cv2_imshow(kernel)\n",
        "# the closing operation \n",
        "closed = cv2.morphologyEx(thresh, cv2.MORPH_CLOSE, kernel) # Perform the morphological closing operation on \"thresh\" using the above kernel\n",
        "cv2_imshow(closed)"
      ],
      "metadata": {
        "id": "rN2s_H_eNPZ8",
        "colab": {
          "base_uri": "https://localhost:8080/",
          "height": 124
        },
        "outputId": "3fd22e02-a7be-4ce2-c365-f127d34e6c2e"
      },
      "execution_count": 83,
      "outputs": [
        {
          "output_type": "display_data",
          "data": {
            "text/plain": [
              "<PIL.Image.Image image mode=L size=396x107 at 0x7F78A45AD870>"
            ],
            "image/png": "[encoded data removed]"
          },
          "metadata": {}
        }
      ]
    },
    {
      "cell_type": "code",
      "source": [
        "# Display the closed image using cv2_imshow()"
      ],
      "metadata": {
        "id": "uM4YcNF-ZqVz"
      },
      "execution_count": 84,
      "outputs": []
    },
    {
      "cell_type": "markdown",
      "source": [
        "[link text](https://)We further dilate the closed image and find the region with the maximum area."
      ],
      "metadata": {
        "id": "Tks76qQIa3rM"
      }
    },
    {
      "cell_type": "code",
      "source": [
        "closed = cv2.dilate(closed, None, iterations = 7) # Performs dilation operation on the closed image\n",
        "cv2_imshow(closed)\n",
        "cnts,hierarchy = cv2.findContours(closed.copy(), cv2.RETR_EXTERNAL,cv2.CHAIN_APPROX_SIMPLE)[-2:]\n",
        "c = sorted(cnts, key = cv2.contourArea, reverse = True)[0] # Finds the region with maximum area"
      ],
      "metadata": {
        "colab": {
          "base_uri": "https://localhost:8080/",
          "height": 124
        },
        "id": "IbVb0EHr0PHc",
        "outputId": "1e258f03-817c-46a1-b4e3-0a2d277f21d1"
      },
      "execution_count": 85,
      "outputs": [
        {
          "output_type": "display_data",
          "data": {
            "text/plain": [
              "<PIL.Image.Image image mode=L size=396x107 at 0x7F78A45AD150>"
            ],
            "image/png": "[encoded data removed]"
          },
          "metadata": {}
        }
      ]
    },
    {
      "cell_type": "markdown",
      "source": [
        "We now bound the region of maximum area with a recangular bounding box."
      ],
      "metadata": {
        "id": "qwxW1p0FcIVd"
      }
    },
    {
      "cell_type": "code",
      "source": [
        "rect = cv2.minAreaRect(c) # Fits a minimum area rectangle over the region with maximum area, hence creating a rectangular bounding box around the barcode\n",
        "box = np.int0(cv2.boxPoints(rect))\n",
        "print(rect)\n",
        "print(box)"
      ],
      "metadata": {
        "id": "LI9Tsuq3TcMj",
        "colab": {
          "base_uri": "https://localhost:8080/"
        },
        "outputId": "ee9913f4-4ee3-481b-f66d-837b6831883c"
      },
      "execution_count": 86,
      "outputs": [
        {
          "output_type": "stream",
          "name": "stdout",
          "text": [
            "((76.5, 49.0), (98.0, 153.0), 90.0)\n",
            "[[  0   0]\n",
            " [153   0]\n",
            " [153  98]\n",
            " [  0  98]]\n"
          ]
        }
      ]
    },
    {
      "cell_type": "markdown",
      "source": [
        "Result of Barcode detection (the red bounding box denotes the output of barcode detection)."
      ],
      "metadata": {
        "id": "AcNSg60Tcqs8"
      }
    },
    {
      "cell_type": "code",
      "source": [
        "img = original.copy()\n",
        "cv2.drawContours(img, [box], -1, (0, 0, 255), 1)\n",
        "cv2_imshow(img)"
      ],
      "metadata": {
        "id": "Xjy6rO6vS649",
        "colab": {
          "base_uri": "https://localhost:8080/",
          "height": 124
        },
        "outputId": "f2213783-7506-401a-e39b-b2f94f16a837"
      },
      "execution_count": 87,
      "outputs": [
        {
          "output_type": "display_data",
          "data": {
            "text/plain": [
              "<PIL.Image.Image image mode=RGB size=396x107 at 0x7F78A45AC550>"
            ],
            "image/png": "[encoded data removed]"
          },
          "metadata": {}
        }
      ]
    },
    {
      "cell_type": "code",
      "source": [
        "# This function crops the bounding box\n",
        "def getSubImage(rect, src):\n",
        "    center, size, theta = rect \n",
        "    size = [size[1],size[0]]\n",
        "    center, size = tuple(map(int, center)), tuple(map(int, size))\n",
        "    M = cv2.getRotationMatrix2D( center, theta-90, 1)\n",
        "    print(src.shape)\n",
        "    dst = cv2.warpAffine(src, M, [src.shape[1],src.shape[0]])\n",
        "    out = cv2.getRectSubPix(dst, size, center)\n",
        "    return out"
      ],
      "metadata": {
        "id": "7AwW1JEFsy18"
      },
      "execution_count": 88,
      "outputs": []
    },
    {
      "cell_type": "markdown",
      "source": [
        "Result after cropping the bounding box:"
      ],
      "metadata": {
        "id": "xXsSi2_pdGx4"
      }
    },
    {
      "cell_type": "code",
      "source": [
        "out = getSubImage(rect, image)\n",
        "cv2_imshow(out)"
      ],
      "metadata": {
        "id": "GDTBDLOegQlF",
        "colab": {
          "base_uri": "https://localhost:8080/",
          "height": 133
        },
        "outputId": "bf72320c-3c3a-41a6-f121-ed3e74113f43"
      },
      "execution_count": 89,
      "outputs": [
        {
          "output_type": "stream",
          "name": "stdout",
          "text": [
            "(107, 396)\n"
          ]
        },
        {
          "output_type": "display_data",
          "data": {
            "text/plain": [
              "<PIL.Image.Image image mode=L size=153x98 at 0x7F78A45ACB20>"
            ],
            "image/png": "[encoded data removed]"
          },
          "metadata": {}
        }
      ]
    },
    {
      "cell_type": "markdown",
      "source": [
        "# Barcode Scanning"
      ],
      "metadata": {
        "id": "fBTj0fKcVeq8"
      }
    },
    {
      "cell_type": "code",
      "source": [
        "out = out.astype('uint8')\n",
        "out = cv2.cvtColor(out,cv2.COLOR_GRAY2RGB)"
      ],
      "metadata": {
        "id": "mfi-UWnC7-LL"
      },
      "execution_count": 90,
      "outputs": []
    },
    {
      "cell_type": "code",
      "source": [
        "encoding_pattern ={\n",
        "        \"111111\":0,\n",
        "        \"110100\":1,\n",
        "        \"110010\":2,\n",
        "        \"110001\":3,\n",
        "        \"101100\":4,\n",
        "        \"100110\":5,\n",
        "        \"100011\":6,\n",
        "        \"101010\":7,\n",
        "        \"101001\":8,\n",
        "        \"100101\":9\n",
        "}\n",
        "left=[\n",
        "    {\n",
        "        \"0100111\":0,\n",
        "        \"0110011\":1,\n",
        "        \"0011011\":2,\n",
        "        \"0100001\":3,\n",
        "        \"0011101\":4,\n",
        "        \"0111001\":5,\n",
        "        \"0000101\":6,\n",
        "        \"0010001\":7,\n",
        "        \"0001001\":8,\n",
        "        \"0010111\":9   \n",
        "    },\n",
        "    {\n",
        "        \"0001101\":0,\n",
        "        \"0011001\":1,\n",
        "        \"0010011\":2,\n",
        "        \"0111101\":3,\n",
        "        \"0100011\":4,\n",
        "        \"0110001\":5,\n",
        "        \"0101111\":6,\n",
        "        \"0111011\":7,\n",
        "        \"0110111\":8,\n",
        "        \"0001011\":9   \n",
        "    }\n",
        "]\n",
        "right = {\n",
        "        \"1110010\":0,\n",
        "        \"1100110\":1,\n",
        "        \"1101100\":2,\n",
        "        \"1000010\":3,\n",
        "        \"1011100\":4,\n",
        "        \"1001110\":5,\n",
        "        \"1010000\":6,\n",
        "        \"1000100\":7,\n",
        "        \"1001000\":8,\n",
        "        \"1110100\":9 \n",
        "}"
      ],
      "metadata": {
        "id": "s_BvQxCyF15O"
      },
      "execution_count": 91,
      "outputs": []
    },
    {
      "cell_type": "code",
      "source": [
        "# Write a function that takes in a 3-channel RGB image as input, converts it \n",
        "# into a 1-channel grayscale image, and returns the converted grayscale image.\n",
        "# Note that to convert an RGB image to grayscale, we take the weighted average\n",
        "# of the RGB components as Gray = 0.2989 * RED + 0.5870 * GREEN + 0.1140 * BLUE\n",
        "def rgb2gray(rgb):\n",
        "  # WRITE YOUR CODE HERE\n",
        "\n",
        "# Write a function that takes a 1-channel grayscale image, and the thresholding value \n",
        "# as inputs, and performs binary thresholding on the input image with the given threshold.\n",
        "# i.e. if threshold is thrs, then all pixels with intensity < thrs should become 0, and \n",
        "# all pixels with intensity >= thrs should become 255\n",
        "def thresholding(img, thrs):\n",
        "  # WRITE YOUR CODE HERE\n",
        "\n",
        "# This function takes an RGB image as input, converts it into grayscale image, performs \n",
        "# binary thresholding on the grayscale image, and then finally returns the image.\n",
        "def binarise(pic, thrs):\n",
        "  img = rgb2gray(pic) # Converts the image from RGB to Grayscale\n",
        "  threshimg = thresholding(img, thrs) # Performs binary thresholding on the input image\n",
        "  return threshimg"
      ],
      "metadata": {
        "id": "ETOhXAF48Tgm",
        "colab": {
          "base_uri": "https://localhost:8080/",
          "height": 137
        },
        "outputId": "f3764634-1365-4507-f1e3-b296d3b5c914"
      },
      "execution_count": 92,
      "outputs": [
        {
          "output_type": "error",
          "ename": "IndentationError",
          "evalue": "ignored",
          "traceback": [
            "\u001b[0;36m  File \u001b[0;32m\"<ipython-input-92-73e7842a45f6>\"\u001b[0;36m, line \u001b[0;32m12\u001b[0m\n\u001b[0;31m    def thresholding(img, thrs):\u001b[0m\n\u001b[0m    ^\u001b[0m\n\u001b[0;31mIndentationError\u001b[0m\u001b[0;31m:\u001b[0m expected an indented block after function definition on line 5\n"
          ]
        }
      ]
    },
    {
      "cell_type": "code",
      "source": [
        "def primitive_crop(row):\n",
        "    indices = np.where(row == 0)[0]\n",
        "    if indices.shape[0] == 0:\n",
        "      return None\n",
        "    return row[indices[0]:indices[-1]+1]"
      ],
      "metadata": {
        "id": "42hTa9Jb8ZaJ"
      },
      "execution_count": null,
      "outputs": []
    },
    {
      "cell_type": "code",
      "source": [
        "def convert_binary(bars,nlb):\n",
        "    binstring = ''\n",
        "    d = 1\n",
        "    cnt = 0\n",
        "    np.append(bars,[-1])\n",
        "    for i in bars:\n",
        "      if i == (255 - d*255):\n",
        "        cnt = cnt + 1\n",
        "      else:\n",
        "        if d == 1:\n",
        "          d = 0\n",
        "          binstring = binstring + '1'*math.ceil(cnt/nlb)\n",
        "        else:\n",
        "          d = 1\n",
        "          binstring = binstring + '0'*math.floor(cnt/nlb)\n",
        "        cnt = 1\n",
        "    return binstring"
      ],
      "metadata": {
        "id": "60J4ZN2-Csb5"
      },
      "execution_count": null,
      "outputs": []
    },
    {
      "cell_type": "code",
      "source": [
        "def find_num_bars(cropped_row):\n",
        "    num = 0\n",
        "    for i in cropped_row:\n",
        "        if i == 255:\n",
        "            break\n",
        "        else:\n",
        "            num += 1\n",
        "    return num"
      ],
      "metadata": {
        "id": "EFRfFE73BllC"
      },
      "execution_count": null,
      "outputs": []
    },
    {
      "cell_type": "code",
      "source": [
        "def find_encoding(bs_list):\n",
        "    par_str = \"\"\n",
        "    for number in range(6):\n",
        "        parity = 0\n",
        "        for i in bs_list[number]:\n",
        "            parity ^= int(i)\n",
        "        par_str += str(parity)\n",
        "    return par_str"
      ],
      "metadata": {
        "id": "vDkfCwK2D7_r"
      },
      "execution_count": null,
      "outputs": []
    },
    {
      "cell_type": "code",
      "source": [
        "def get_digits(binary_string,rep_length):\n",
        "    number_strings = []\n",
        "    start_pos = 3\n",
        "    end_pos = len(binary_string) - 3\n",
        "    i = start_pos\n",
        "    while(i < end_pos):\n",
        "        if i == start_pos + rep_length*6:\n",
        "            i+=5\n",
        "            continue\n",
        "        number_strings.append(str(binary_string[i:i+rep_length]))\n",
        "        i += rep_length\n",
        "    return number_strings"
      ],
      "metadata": {
        "id": "Y8wGt3aKCNfc"
      },
      "execution_count": null,
      "outputs": []
    },
    {
      "cell_type": "code",
      "source": [
        "def decode(encoding_patter_number,bs_list):\n",
        "    info = \"\"\n",
        "    info += str(encoding_pattern[encoding_pattern_number]) + '-'\n",
        "    for i in range(6):\n",
        "        # print(info)\n",
        "        info += str(left[int(encoding_pattern_number[i])][bs_list[i]])\n",
        "    info += '-'\n",
        "    for i in range(6,12):\n",
        "        info += str(right[bs_list[i]])\n",
        "    return info"
      ],
      "metadata": {
        "id": "YfWBbbN0E7XR"
      },
      "execution_count": null,
      "outputs": []
    },
    {
      "cell_type": "markdown",
      "source": [
        "Plot the histogram of pixel intensities."
      ],
      "metadata": {
        "id": "sm2sCar4UZbz"
      }
    },
    {
      "cell_type": "code",
      "source": [
        "histr = cv2.calcHist([out],[0],None,[256],[0,256])\n",
        "plt.plot(histr)"
      ],
      "metadata": {
        "id": "ST1dJbA1xPDK"
      },
      "execution_count": null,
      "outputs": []
    },
    {
      "cell_type": "code",
      "source": [
        "image_cropped = out\n",
        "image_cropped = cv2.resize(image_cropped, (219, 150))"
      ],
      "metadata": {
        "id": "Gr4Eby0s75cL"
      },
      "execution_count": null,
      "outputs": []
    },
    {
      "cell_type": "markdown",
      "source": [
        "The below cell performs binary thresholding using binarise(inp_img, threshold_value) function. Try out different threshold values and see if the Barcode Detection always works."
      ],
      "metadata": {
        "id": "DOpnX-vvTnAq"
      }
    },
    {
      "cell_type": "code",
      "source": [
        "bimg = binarise(image_cropped,100) # Change the thresold parameter and check if the barcode detection works for other values\n",
        "cv2_imshow(bimg)"
      ],
      "metadata": {
        "id": "2xE3YWo2jLHb"
      },
      "execution_count": null,
      "outputs": []
    },
    {
      "cell_type": "markdown",
      "source": [
        "**Final Barcode Scanning Algorithm:**"
      ],
      "metadata": {
        "id": "-gJzEgJZUt6z"
      }
    },
    {
      "cell_type": "code",
      "source": [
        "ctr = defaultdict(int)\n",
        "for row in bimg:\n",
        "  cropped_row = primitive_crop(row)\n",
        "  if cropped_row is None:\n",
        "    continue\n",
        "  try:\n",
        "    nlb = find_num_bars(cropped_row)\n",
        "    binary_string = convert_binary(cropped_row,nlb)\n",
        "    rep_length = 7\n",
        "    num_numbers = 13\n",
        "    bs_list = get_digits(binary_string,rep_length)\n",
        "    encoding_pattern_number = find_encoding(bs_list)\n",
        "    information = decode(encoding_pattern_number,bs_list)\n",
        "    ctr[information] +=1\n",
        "  except:\n",
        "    continue\n",
        "\n",
        "if len(list(ctr.keys())):\n",
        "  print('Scanned Barcode:',list(ctr.keys())[0])\n",
        "else:\n",
        "  print('Barcode Scanning Failed!!!')"
      ],
      "metadata": {
        "id": "S6snlnDyWoft"
      },
      "execution_count": null,
      "outputs": []
    }
  ]
}