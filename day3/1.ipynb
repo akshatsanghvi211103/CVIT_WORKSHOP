{
 "cells": [
  {
   "cell_type": "code",
   "execution_count": 3,
   "metadata": {},
   "outputs": [],
   "source": [
    "import os\n",
    "import numpy as np\n",
    "import matplotlib.pyplot as plt\n",
    "%matplotlib inline\n",
    "\n",
    "import cv2"
   ]
  },
  {
   "cell_type": "code",
   "execution_count": 10,
   "metadata": {},
   "outputs": [
    {
     "name": "stdout",
     "output_type": "stream",
     "text": [
      "(1920, 3)\n"
     ]
    }
   ],
   "source": [
    "x = np.load('noisy_p1_ms.npy')\n",
    "print(x.shape)\n",
    "# convert x into int"
   ]
  },
  {
   "cell_type": "code",
   "execution_count": 27,
   "metadata": {},
   "outputs": [
    {
     "data": {
      "text/plain": [
       "44343.625434561676"
      ]
     },
     "execution_count": 27,
     "metadata": {},
     "output_type": "execute_result"
    }
   ],
   "source": [
    "import cvxpy as cp\n",
    "RX = x[:, 0] # this is in string, we need to convert it into int\n",
    "RY = x[:, 1]\n",
    "RH = x[:, 2]\n",
    "# convert these above arrays into integers\n",
    "RX = np.array([int(i) for i in RX])\n",
    "RY = np.array([int(i) for i in RY])\n",
    "RH = np.array([int(i) for i in RH])\n",
    "\n",
    "rx = cp.Variable(x.shape[0])\n",
    "ry = cp.Variable(x.shape[0])\n",
    "rh = cp.Variable(x.shape[0])\n",
    "\n",
    "# plt.plot(range(x.shape[0]), rx.value)\n",
    "obj = cp.Minimize(1/2*cp.sum((RX-rx)**2) + 100*cp.sum(cp.abs(rx[1:] - rx[:-1])) + 100 * cp.sum(cp.abs(rx[3:] - 3*rx[2:-1] + 3*rx[1:-2] - rx[0:-3])))\n",
    "prob = cp.Problem(obj, [])\n",
    "prob.solve()\n",
    "# plt.plot(range(x.shape[0]), rx.value)\n",
    "\n",
    "# plt.plot(range(x.shape[0]), ry.value)\n",
    "obj = cp.Minimize(1/2*cp.sum((RY-ry)**2) + 100*cp.sum(cp.abs(ry[1:] - ry[:-1])) + 100 * cp.sum(cp.abs(ry[3:] - 3*ry[2:-1] + 3*ry[1:-2] - ry[0:-3])))\n",
    "prob = cp.Problem(obj, [])\n",
    "prob.solve()\n",
    "# plt.plot(range(x.shape[0]), ry.value)\n",
    "\n",
    "# plt.plot(range(x.shape[0]), rh.value)\n",
    "obj = cp.Minimize(1/2*cp.sum((RH-rh)**2) + 100*cp.sum(cp.abs(rh[1:] - rh[:-1])) + 100 * cp.sum(cp.abs(rh[3:] - 3*rh[2:-1] + 3*rh[1:-2] - rh[0:-3])))\n",
    "prob = cp.Problem(obj, [])\n",
    "prob.solve()\n",
    "# plt.plot(range(x.shape[0]), rh.value)\n"
   ]
  },
  {
   "cell_type": "code",
   "execution_count": 28,
   "metadata": {},
   "outputs": [
    {
     "name": "stdout",
     "output_type": "stream",
     "text": [
      "58.26303285629173\n"
     ]
    }
   ],
   "source": [
    "# substitute the values of rx, ry, rh in x as strings again\n",
    "print(rx[0].value)\n",
    "# they are in float, we need to convert them into int and then into string\n",
    "rx = np.array([int(i) for i in rx.value])\n",
    "ry = np.array([int(i) for i in ry.value])\n",
    "rh = np.array([int(i) for i in rh.value])\n",
    "\n",
    "# now we need to substitute these values in x\n",
    "x[:, 0] = rx\n",
    "x[:, 1] = ry\n",
    "x[:, 2] = rh\n"
   ]
  },
  {
   "cell_type": "code",
   "execution_count": 35,
   "metadata": {},
   "outputs": [],
   "source": [
    "# not the actual solution code, I have changed the range and adjusted some values to do this for all images\n",
    "images = []\n",
    "aspect_ratio = 16 / 9\n",
    "for i in range(1, 10):\n",
    "    images.append(f'out/frame_000{i}.png')\n",
    "    img = cv2.imread(images[i - 1])\n",
    "    x_coord1 = x[480 + i - 1][0] - aspect_ratio * x[480 + i - 1][2]\n",
    "    y_coord1 = x[480 + i - 1][1] + x[480 + i - 1][2]\n",
    "    x_coord2 = x[480 + i - 1][0] + aspect_ratio * x[480 + i - 1][2]\n",
    "    y_coord2 = x[480 + i - 1][1] - x[480 + i - 1][2]\n",
    "    # print(type((x_coord, y_coord)))\n",
    "    cv2.rectangle(img, (int(x_coord1), int(y_coord1)), (int(x_coord2), int(y_coord2)), (0, 255, 0), 2)\n",
    "    cv2.imwrite(f'out/frame_000{i}.png', img)"
   ]
  },
  {
   "cell_type": "code",
   "execution_count": 37,
   "metadata": {},
   "outputs": [
    {
     "name": "stdout",
     "output_type": "stream",
     "text": [
      "ffmpeg version 4.2.7-0ubuntu0.1 Copyright (c) 2000-2022 the FFmpeg developers\n",
      "  built with gcc 9 (Ubuntu 9.4.0-1ubuntu1~20.04.1)\n",
      "  configuration: --prefix=/usr --extra-version=0ubuntu0.1 --toolchain=hardened --libdir=/usr/lib/x86_64-linux-gnu --incdir=/usr/include/x86_64-linux-gnu --arch=amd64 --enable-gpl --disable-stripping --enable-avresample --disable-filter=resample --enable-avisynth --enable-gnutls --enable-ladspa --enable-libaom --enable-libass --enable-libbluray --enable-libbs2b --enable-libcaca --enable-libcdio --enable-libcodec2 --enable-libflite --enable-libfontconfig --enable-libfreetype --enable-libfribidi --enable-libgme --enable-libgsm --enable-libjack --enable-libmp3lame --enable-libmysofa --enable-libopenjpeg --enable-libopenmpt --enable-libopus --enable-libpulse --enable-librsvg --enable-librubberband --enable-libshine --enable-libsnappy --enable-libsoxr --enable-libspeex --enable-libssh --enable-libtheora --enable-libtwolame --enable-libvidstab --enable-libvorbis --enable-libvpx --enable-libwavpack --enable-libwebp --enable-libx265 --enable-libxml2 --enable-libxvid --enable-libzmq --enable-libzvbi --enable-lv2 --enable-omx --enable-openal --enable-opencl --enable-opengl --enable-sdl2 --enable-libdc1394 --enable-libdrm --enable-libiec61883 --enable-nvenc --enable-chromaprint --enable-frei0r --enable-libx264 --enable-shared\n",
      "  libavutil      56. 31.100 / 56. 31.100\n",
      "  libavcodec     58. 54.100 / 58. 54.100\n",
      "  libavformat    58. 29.100 / 58. 29.100\n",
      "  libavdevice    58.  8.100 / 58.  8.100\n",
      "  libavfilter     7. 57.100 /  7. 57.100\n",
      "  libavresample   4.  0.  0 /  4.  0.  0\n",
      "  libswscale      5.  5.100 /  5.  5.100\n",
      "  libswresample   3.  5.100 /  3.  5.100\n",
      "  libpostproc    55.  5.100 / 55.  5.100\n",
      "Input #0, image2, from 'out/frame_%04d.png':\n",
      "  Duration: 00:00:09.60, start: 0.000000, bitrate: N/A\n",
      "    Stream #0:0: Video: png, rgb24(pc), 2560x1350, 25 tbr, 25 tbn, 25 tbc\n",
      "Stream mapping:\n",
      "  Stream #0:0 -> #0:0 (png (native) -> h264 (libx264))\n",
      "Press [q] to stop, [?] for help\n",
      "\u001b[1;36m[libx264 @ 0x560da566b3c0] \u001b[0musing cpu capabilities: MMX2 SSE2Fast SSSE3 SSE4.2 AVX FMA3 BMI2 AVX2\n",
      "\u001b[1;36m[libx264 @ 0x560da566b3c0] \u001b[0mprofile High 4:4:4 Predictive, level 5.0, 4:4:4 8-bit\n",
      "\u001b[1;36m[libx264 @ 0x560da566b3c0] \u001b[0m264 - core 155 r2917 0a84d98 - H.264/MPEG-4 AVC codec - Copyleft 2003-2018 - http://www.videolan.org/x264.html - options: cabac=1 ref=3 deblock=1:0:0 analyse=0x1:0x111 me=hex subme=7 psy=1 psy_rd=1.00:0.00 mixed_ref=1 me_range=16 chroma_me=1 trellis=1 8x8dct=0 cqm=0 deadzone=21,11 fast_pskip=1 chroma_qp_offset=4 threads=12 lookahead_threads=2 sliced_threads=0 nr=0 decimate=1 interlaced=0 bluray_compat=0 constrained_intra=0 bframes=3 b_pyramid=2 b_adapt=1 b_bias=0 direct=1 weightb=1 open_gop=0 weightp=2 keyint=250 keyint_min=24 scenecut=40 intra_refresh=0 rc_lookahead=40 rc=crf mbtree=1 crf=23.0 qcomp=0.60 qpmin=0 qpmax=69 qpstep=4 ip_ratio=1.40 aq=1:1.00\n",
      "Output #0, mp4, to 'out.mp4':\n",
      "  Metadata:\n",
      "    encoder         : Lavf58.29.100\n",
      "    Stream #0:0: Video: h264 (libx264) (avc1 / 0x31637661), yuv444p, 2560x1350, q=-1--1, 24 fps, 12288 tbn, 24 tbc\n",
      "    Metadata:\n",
      "      encoder         : Lavc58.54.100 libx264\n",
      "    Side data:\n",
      "      cpb: bitrate max/min/avg: 0/0/0 buffer size: 0 vbv_delay: -1\n",
      "frame=  240 fps=6.0 q=-1.0 Lsize=    2150kB time=00:00:09.87 bitrate=1783.7kbits/s speed=0.246x     \n",
      "video:2147kB audio:0kB subtitle:0kB other streams:0kB global headers:0kB muxing overhead: 0.169467%\n",
      "\u001b[1;36m[libx264 @ 0x560da566b3c0] \u001b[0mframe I:1     Avg QP:17.90  size:103548\n",
      "\u001b[1;36m[libx264 @ 0x560da566b3c0] \u001b[0mframe P:64    Avg QP:17.45  size: 20647\n",
      "\u001b[1;36m[libx264 @ 0x560da566b3c0] \u001b[0mframe B:175   Avg QP:21.10  size:  4414\n",
      "\u001b[1;36m[libx264 @ 0x560da566b3c0] \u001b[0mconsecutive B-frames:  0.4%  5.8%  3.8% 90.0%\n",
      "\u001b[1;36m[libx264 @ 0x560da566b3c0] \u001b[0mmb I  I16..4: 72.6%  0.0% 27.4%\n",
      "\u001b[1;36m[libx264 @ 0x560da566b3c0] \u001b[0mmb P  I16..4:  4.3%  0.0%  1.5%  P16..4: 15.4%  5.4%  2.5%  0.0%  0.0%    skip:70.8%\n",
      "\u001b[1;36m[libx264 @ 0x560da566b3c0] \u001b[0mmb B  I16..4:  0.1%  0.0%  0.3%  B16..8: 11.3%  0.8%  0.1%  direct: 0.2%  skip:87.1%  L0:33.9% L1:62.3% BI: 3.8%\n",
      "\u001b[1;36m[libx264 @ 0x560da566b3c0] \u001b[0mcoded y,u,v intra: 28.7% 17.8% 16.5% inter: 1.6% 0.8% 0.5%\n",
      "\u001b[1;36m[libx264 @ 0x560da566b3c0] \u001b[0mi16 v,h,dc,p: 73% 17%  6%  5%\n",
      "\u001b[1;36m[libx264 @ 0x560da566b3c0] \u001b[0mi4 v,h,dc,ddl,ddr,vr,hd,vl,hu: 30% 20% 16%  6%  6%  6%  6%  6%  4%\n",
      "\u001b[1;36m[libx264 @ 0x560da566b3c0] \u001b[0mWeighted P-Frames: Y:0.0% UV:0.0%\n",
      "\u001b[1;36m[libx264 @ 0x560da566b3c0] \u001b[0mref P L0: 61.2%  9.5% 21.4%  7.9%\n",
      "\u001b[1;36m[libx264 @ 0x560da566b3c0] \u001b[0mref B L0: 85.7% 12.2%  2.1%\n",
      "\u001b[1;36m[libx264 @ 0x560da566b3c0] \u001b[0mref B L1: 96.2%  3.8%\n",
      "\u001b[1;36m[libx264 @ 0x560da566b3c0] \u001b[0mkb/s:1757.90\n"
     ]
    }
   ],
   "source": [
    "# combining the images to make a video\n",
    "!ffmpeg -r 24 -i out/'frame_%04d.png' out.mp4"
   ]
  }
 ],
 "metadata": {
  "kernelspec": {
   "display_name": "Python 3",
   "language": "python",
   "name": "python3"
  },
  "language_info": {
   "codemirror_mode": {
    "name": "ipython",
    "version": 3
   },
   "file_extension": ".py",
   "mimetype": "text/x-python",
   "name": "python",
   "nbconvert_exporter": "python",
   "pygments_lexer": "ipython3",
   "version": "3.8.10"
  },
  "orig_nbformat": 4,
  "vscode": {
   "interpreter": {
    "hash": "916dbcbb3f70747c44a77c7bcd40155683ae19c65e1c03b4aa3499c5328201f1"
   }
  }
 },
 "nbformat": 4,
 "nbformat_minor": 2
}
